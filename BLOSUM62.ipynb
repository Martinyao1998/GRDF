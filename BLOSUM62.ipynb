{
 "cells": [
  {
   "cell_type": "code",
   "execution_count": 1,
   "id": "a1ebce1c",
   "metadata": {},
   "outputs": [],
   "source": [
    "import numpy as np\n",
    "def read_protein_sequences(file):\n",
    "    with open(file) as f:\n",
    "        sequences = f.read()\n",
    "        \n",
    "    sequences = list(filter(None, sequences.split('\\n'))) \n",
    "    return(sequences)\n",
    "\n",
    "\n",
    "def BLOSUM62(sequences):\n",
    "    blosum62 = {\n",
    "        'A': [4,  -1, -2, -2, 0,  -1, -1, 0, -2,  -1, -1, -1, -1, -2, -1, 1,  0,  -3, -2, 0],  # A\n",
    "        'R': [-1, 5,  0,  -2, -3, 1,  0,  -2, 0,  -3, -2, 2,  -1, -3, -2, -1, -1, -3, -2, -3], # R\n",
    "        'N': [-2, 0,  6,  1,  -3, 0,  0,  0,  1,  -3, -3, 0,  -2, -3, -2, 1,  0,  -4, -2, -3], # N\n",
    "        'D': [-2, -2, 1,  6,  -3, 0,  2,  -1, -1, -3, -4, -1, -3, -3, -1, 0,  -1, -4, -3, -3], # D\n",
    "        'C': [0,  -3, -3, -3, 9,  -3, -4, -3, -3, -1, -1, -3, -1, -2, -3, -1, -1, -2, -2, -1], # C\n",
    "        'Q': [-1, 1,  0,  0,  -3, 5,  2,  -2, 0,  -3, -2, 1,  0,  -3, -1, 0,  -1, -2, -1, -2], # Q\n",
    "        'E': [-1, 0,  0,  2,  -4, 2,  5,  -2, 0,  -3, -3, 1,  -2, -3, -1, 0,  -1, -3, -2, -2], # E\n",
    "        'G': [0,  -2, 0,  -1, -3, -2, -2, 6,  -2, -4, -4, -2, -3, -3, -2, 0,  -2, -2, -3, -3], # G\n",
    "        'H': [-2, 0,  1,  -1, -3, 0,  0,  -2, 8,  -3, -3, -1, -2, -1, -2, -1, -2, -2, 2,  -3], # H\n",
    "        'I': [-1, -3, -3, -3, -1, -3, -3, -4, -3, 4,  2,  -3, 1,  0,  -3, -2, -1, -3, -1, 3],  # I\n",
    "        'L': [-1, -2, -3, -4, -1, -2, -3, -4, -3, 2,  4,  -2, 2,  0,  -3, -2, -1, -2, -1, 1],  # L\n",
    "        'K': [-1, 2,  0,  -1, -3, 1,  1,  -2, -1, -3, -2, 5,  -1, -3, -1, 0,  -1, -3, -2, -2], # K\n",
    "        'M': [-1, -1, -2, -3, -1, 0,  -2, -3, -2, 1,  2,  -1, 5,  0,  -2, -1, -1, -1, -1, 1],  # M\n",
    "        'F': [-2, -3, -3, -3, -2, -3, -3, -3, -1, 0,  0,  -3, 0,  6,  -4, -2, -2, 1,  3,  -1], # F\n",
    "        'P': [-1, -2, -2, -1, -3, -1, -1, -2, -2, -3, -3, -1, -2, -4, 7,  -1, -1, -4, -3, -2], # P\n",
    "        'S': [1,  -1, 1,  0,  -1, 0,  0,  0,  -1, -2, -2, 0,  -1, -2, -1, 4,  1,  -3, -2, -2], # S\n",
    "        'T': [0,  -1, 0,  -1, -1, -1, -1, -2, -2, -1, -1, -1, -1, -2, -1, 1,  5,  -2, -2, 0],  # T\n",
    "        'W': [-3, -3, -4, -4, -2, -2, -3, -2, -2, -3, -2, -3, -1, 1,  -4, -3, -2, 11, 2,  -3], # W\n",
    "        'Y': [-2, -2, -2, -3, -2, -1, -2, -3, 2,  -1, -1, -2, -1, 3,  -3, -2, -2, 2,  7,  -1], # Y\n",
    "        'V': [0,  -3, -3, -3, -1, -2, -2, -3, -3, 3,  1,  -2, 1,  -1, -2, -2, 0,  -3, -1, 4],  # V\n",
    "        '*': [0,  0,  0,  0,  0,  0,  0,  0,  0,  0,  0,  0,  0,  0,  0,  0,  0,  0,  0,  0],  # *\n",
    "        '_': [0,  0,  0,  0,  0,  0,  0,  0,  0,  0,  0,  0,  0,  0,  0,  0,  0,  0,  0,  0],  # _\n",
    "        'X': [0,  0,  0,  0,  0,  0,  0,  0,  0,  0,  0,  0,  0,  0,  0,  0,  0,  0,  0,  0],  # _\n",
    "    }\n",
    "    \n",
    "    encodings = []\n",
    "    for sequence in sequences:\n",
    "        code=[]  \n",
    "        for j in sequence:\n",
    "            code = code + blosum62[j]\n",
    "        encodings.append(code) \n",
    "    return encodings\n",
    "\n",
    "\n",
    "def write_to_csv(encodings, file):\n",
    "    with open(file, 'w') as f:\n",
    "        for line in encodings:\n",
    "            f.write(str(line[0]))\n",
    "            for i in range(1, len(line)):\n",
    "                f.write(',%s' % line[i])\n",
    "            f.write('\\n')"
   ]
  },
  {
   "cell_type": "code",
   "execution_count": 28,
   "id": "dba010de",
   "metadata": {},
   "outputs": [],
   "source": [
    "train_sequences = read_protein_sequences(\"train.txt\")\n",
    "encode=BLOSUM62(train_sequences)"
   ]
  },
  {
   "cell_type": "code",
   "execution_count": 29,
   "id": "bfc34352",
   "metadata": {},
   "outputs": [],
   "source": [
    "write_to_csv(encode, \"train_BLOSUM62.csv\")"
   ]
  },
  {
   "cell_type": "code",
   "execution_count": 30,
   "id": "f2fb6a8a",
   "metadata": {},
   "outputs": [],
   "source": [
    "test_sequences = read_protein_sequences(\"test.txt\")\n",
    "encode=BLOSUM62(test_sequences)"
   ]
  },
  {
   "cell_type": "code",
   "execution_count": 31,
   "id": "c11ad3fd",
   "metadata": {},
   "outputs": [],
   "source": [
    "write_to_csv(encode, \"test_BLOSUM62.csv\")"
   ]
  },
  {
   "cell_type": "code",
   "execution_count": null,
   "id": "81f4529c",
   "metadata": {},
   "outputs": [],
   "source": []
  }
 ],
 "metadata": {
  "kernelspec": {
   "display_name": "Python 3 (ipykernel)",
   "language": "python",
   "name": "python3"
  },
  "language_info": {
   "codemirror_mode": {
    "name": "ipython",
    "version": 3
   },
   "file_extension": ".py",
   "mimetype": "text/x-python",
   "name": "python",
   "nbconvert_exporter": "python",
   "pygments_lexer": "ipython3",
   "version": "3.7.12"
  }
 },
 "nbformat": 4,
 "nbformat_minor": 5
}
