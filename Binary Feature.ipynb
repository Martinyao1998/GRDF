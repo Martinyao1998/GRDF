{
 "cells": [
  {
   "cell_type": "code",
   "execution_count": 1,
   "id": "09ff640a",
   "metadata": {},
   "outputs": [],
   "source": [
    "import numpy as np\n",
    "import pandas as pd"
   ]
  },
  {
   "cell_type": "code",
   "execution_count": 15,
   "id": "213af2d9",
   "metadata": {},
   "outputs": [],
   "source": [
    "def onehot(seq):\n",
    "    bases = ['K','L','G','A','R','S','V','I','E','P','F','T','D','N','Q','H','C','W','Y','M']\n",
    "    X = np.zeros((len(seq),50,len(bases)))\n",
    "    for i,m in enumerate(seq):\n",
    "        for l,s in enumerate(m):\n",
    "            if s in bases:\n",
    "                X[i,l,bases.index(s)] = 1\n",
    "    return X\n"
   ]
  },
  {
   "cell_type": "code",
   "execution_count": 24,
   "id": "305c1d12",
   "metadata": {},
   "outputs": [],
   "source": [
    "df_train=pd.read_csv(\"train.csv\")\n",
    "df_test=pd.read_csv(\"test.csv\")"
   ]
  },
  {
   "cell_type": "code",
   "execution_count": 58,
   "id": "b9141d59",
   "metadata": {},
   "outputs": [],
   "source": [
    "train_seq = df_train[\"sequence\"].tolist()\n",
    "train_seq_onehot = onehot(train_seq)\n",
    "binary_train = np.zeros((len(train_seq_onehot),1000))\n",
    "for i in range(0,len(train_seq_onehot)):\n",
    "    mid = np.zeros((1,1000))\n",
    "    mid = train_seq_onehot[i].flatten()\n",
    "    binary_train[i] = mid\n",
    "binary_train_df = pd.DataFrame(data=binary_train)"
   ]
  },
  {
   "cell_type": "code",
   "execution_count": 59,
   "id": "1a97b5f2",
   "metadata": {},
   "outputs": [],
   "source": [
    "test_seq = df_test[\"sequence\"].tolist()\n",
    "test_seq_onehot = onehot(test_seq)\n",
    "binary_test = np.zeros((len(test_seq_onehot),1000))\n",
    "for i in range(0,len(test_seq_onehot)):\n",
    "    mid = np.zeros((1,1000))\n",
    "    mid = test_seq_onehot[i].flatten()\n",
    "    binary_test[i] = mid\n",
    "binary_test_df = pd.DataFrame(data=binary_test)"
   ]
  },
  {
   "cell_type": "code",
   "execution_count": 61,
   "id": "4e71ed9a",
   "metadata": {},
   "outputs": [],
   "source": [
    "binary_train_df.to_csv(\"binary_train.csv\")\n",
    "binary_test_df.to_csv(\"binary_test.csv\")"
   ]
  },
  {
   "cell_type": "code",
   "execution_count": null,
   "id": "a13d2bf1",
   "metadata": {},
   "outputs": [],
   "source": []
  }
 ],
 "metadata": {
  "kernelspec": {
   "display_name": "Python 3 (ipykernel)",
   "language": "python",
   "name": "python3"
  },
  "language_info": {
   "codemirror_mode": {
    "name": "ipython",
    "version": 3
   },
   "file_extension": ".py",
   "mimetype": "text/x-python",
   "name": "python",
   "nbconvert_exporter": "python",
   "pygments_lexer": "ipython3",
   "version": "3.7.12"
  }
 },
 "nbformat": 4,
 "nbformat_minor": 5
}
