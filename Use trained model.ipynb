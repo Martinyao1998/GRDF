{
 "cells": [
  {
   "cell_type": "code",
   "execution_count": 1,
   "id": "fa9af457",
   "metadata": {},
   "outputs": [],
   "source": [
    "import numpy as np\n",
    "import pandas as pd\n",
    "from sklearn.preprocessing import StandardScaler\n",
    "from deepforest import CascadeForestClassifier #import deep forest package\n",
    "from sklearn.metrics import f1_score,precision_score,recall_score,accuracy_score,roc_auc_score"
   ]
  },
  {
   "cell_type": "markdown",
   "id": "3444b79a",
   "metadata": {},
   "source": [
    "# This is a quick tutorial that shows you how to use an already established deep forest model"
   ]
  },
  {
   "cell_type": "markdown",
   "id": "0b0df422",
   "metadata": {},
   "source": [
    "## open your dataset"
   ]
  },
  {
   "cell_type": "code",
   "execution_count": 2,
   "id": "0f42259e",
   "metadata": {},
   "outputs": [],
   "source": [
    "df_train = pd.read_csv(\"train_shuffle.csv\")\n",
    "df_test = pd.read_csv(\"test_shuffle.csv\") #open your dataset\n",
    "train_label = df_train.iloc[:,769].values\n",
    "test_label = df_test.iloc[:,769].values # get the label"
   ]
  },
  {
   "cell_type": "code",
   "execution_count": 3,
   "id": "717e6171",
   "metadata": {},
   "outputs": [
    {
     "data": {
      "text/plain": [
       "array([1, 1, 0, ..., 0, 0, 1])"
      ]
     },
     "execution_count": 3,
     "metadata": {},
     "output_type": "execute_result"
    }
   ],
   "source": [
    "train_label"
   ]
  },
  {
   "cell_type": "markdown",
   "id": "161b7a7c",
   "metadata": {},
   "source": [
    "## Get the extracted features (FEGS+BLOSUM62+Binary profile)"
   ]
  },
  {
   "cell_type": "code",
   "execution_count": 5,
   "id": "43a0538c",
   "metadata": {},
   "outputs": [],
   "source": [
    "train_FEGS = df_train.iloc[:,770:1348].values\n",
    "train_BLOSUM = df_train.iloc[:,1348:2348].values\n",
    "train_Binary = df_train.iloc[:,2348:3348].values\n",
    "train_FEGS_BLOSUM_Binary = np.concatenate((train_FEGS,train_BLOSUM,train_Binary),axis=1)\n",
    "\n",
    "test_FEGS = df_test.iloc[:,770:1348].values\n",
    "test_BLOSUM = df_test.iloc[:,1348:2348].values\n",
    "test_Binary = df_test.iloc[:,2348:3348].values\n",
    "test_FEGS_BLOSUM_Binary = np.concatenate((test_FEGS,test_BLOSUM,test_Binary),axis=1)"
   ]
  },
  {
   "cell_type": "code",
   "execution_count": 6,
   "id": "890d204c",
   "metadata": {},
   "outputs": [],
   "source": [
    "standardScaler = StandardScaler()\n",
    "standardScaler.fit(train_FEGS_BLOSUM_Binary)\n",
    "train_FEGS_BLOSUM_Binary_std = standardScaler.transform(train_FEGS_BLOSUM_Binary)\n",
    "test_FEGS_BLOSUM_Binary_std = standardScaler.transform(test_FEGS_BLOSUM_Binary)"
   ]
  },
  {
   "cell_type": "code",
   "execution_count": 8,
   "id": "28ccacc5",
   "metadata": {},
   "outputs": [
    {
     "data": {
      "text/plain": [
       "'/home/yaolt/pythoncode/Anticancer/main'"
      ]
     },
     "execution_count": 8,
     "metadata": {},
     "output_type": "execute_result"
    }
   ],
   "source": [
    "pwd"
   ]
  },
  {
   "cell_type": "markdown",
   "id": "80ea8711",
   "metadata": {},
   "source": [
    "## Import the model"
   ]
  },
  {
   "cell_type": "code",
   "execution_count": 9,
   "id": "9bc4f7f3",
   "metadata": {},
   "outputs": [
    {
     "name": "stderr",
     "output_type": "stream",
     "text": [
      "/home/yaolt/anaconda3/lib/python3.7/site-packages/sklearn/base.py:338: UserWarning: Trying to unpickle estimator LabelEncoder from version 1.0.1 when using version 1.0.2. This might lead to breaking code or invalid results. Use at your own risk. For more info please refer to:\n",
      "https://scikit-learn.org/stable/modules/model_persistence.html#security-maintainability-limitations\n",
      "  UserWarning,\n"
     ]
    }
   ],
   "source": [
    "model_FEGS_BLOSUM_Binary = CascadeForestClassifier()\n",
    "model_FEGS_BLOSUM_Binary.load(\"model/FEGS_BLOSUM_Binary\")"
   ]
  },
  {
   "cell_type": "markdown",
   "id": "d5882698",
   "metadata": {},
   "source": [
    "## Prediction "
   ]
  },
  {
   "cell_type": "code",
   "execution_count": 11,
   "id": "35014c12",
   "metadata": {},
   "outputs": [
    {
     "name": "stdout",
     "output_type": "stream",
     "text": [
      "[2022-09-01 20:19:40.323] Start to evalute the model:\n",
      "[2022-09-01 20:19:40.345] Evaluating cascade layer = 0 \n",
      "[2022-09-01 20:19:40.578] Evaluating cascade layer = 1 \n",
      "[2022-09-01 20:19:40.795] Evaluating cascade layer = 2 \n"
     ]
    }
   ],
   "source": [
    "y_pred = model_FEGS_BLOSUM_Binary.predict(test_FEGS_BLOSUM_Binary_std)"
   ]
  },
  {
   "cell_type": "code",
   "execution_count": 12,
   "id": "771e9d04",
   "metadata": {},
   "outputs": [
    {
     "data": {
      "text/plain": [
       "array([1, 0, 0, 0, 1, 1, 1, 1, 1, 0, 0, 1, 1, 1, 0, 0, 1, 1, 0, 1, 0, 1,\n",
       "       0, 0, 0, 1, 1, 0, 1, 0, 0, 1, 0, 1, 0, 1, 1, 1, 1, 0, 1, 0, 0, 0,\n",
       "       0, 0, 0, 1, 1, 0, 1, 0, 0, 1, 1, 1, 1, 1, 1, 0, 1, 0, 1, 1, 0, 1,\n",
       "       0, 0, 1, 0, 0, 1, 1, 1, 1, 1, 0, 1, 1, 0, 0, 1, 0, 0, 1, 1, 1, 0,\n",
       "       0, 0, 1, 1, 1, 0, 0, 1, 1, 0, 1, 0, 0, 1, 1, 0, 1, 0, 1, 0, 0, 1,\n",
       "       0, 0, 0, 1, 1, 1, 0, 1, 1, 1, 0, 1, 1, 0, 1, 1, 0, 0, 0, 0, 0, 1,\n",
       "       0, 1, 0, 0, 1, 1, 1, 0, 0, 1, 1, 1, 0, 0, 1, 1, 1, 0, 1, 1, 1, 0,\n",
       "       0, 0, 1, 0, 0, 0, 1, 1, 0, 0, 1, 1, 0, 1, 0, 0, 0, 0, 1, 0, 0, 1,\n",
       "       1, 1, 0, 1, 1, 0, 1, 0, 0, 1, 0, 0, 1, 0, 0, 1, 1, 1, 0, 0, 1, 1,\n",
       "       1, 1, 0, 1, 0, 1, 1, 0, 1, 1, 0, 0, 0, 0, 1, 0, 0, 1, 0, 1, 0, 0,\n",
       "       0, 1, 1, 1, 1, 0, 1, 0, 1, 1, 1, 0, 1, 0, 0, 1, 1, 0, 0, 0, 0, 1,\n",
       "       0, 0, 0, 0, 0, 0, 1, 0, 0, 1, 0, 0, 1, 0, 0, 1, 1, 1, 0, 0, 1, 1,\n",
       "       1, 1, 1, 0, 1, 1, 1, 1, 0, 0, 1, 1, 1, 1, 0, 1, 1, 0, 0, 0, 1, 1,\n",
       "       1, 1, 0, 0, 1, 1, 0, 0, 1, 0, 1, 0, 0, 1, 0, 1, 0, 1, 0, 1, 1, 0,\n",
       "       0, 0, 1, 0, 1, 1, 1, 0, 0, 0, 1])"
      ]
     },
     "execution_count": 12,
     "metadata": {},
     "output_type": "execute_result"
    }
   ],
   "source": [
    "y_pred"
   ]
  }
 ],
 "metadata": {
  "kernelspec": {
   "display_name": "Python 3 (ipykernel)",
   "language": "python",
   "name": "python3"
  },
  "language_info": {
   "codemirror_mode": {
    "name": "ipython",
    "version": 3
   },
   "file_extension": ".py",
   "mimetype": "text/x-python",
   "name": "python",
   "nbconvert_exporter": "python",
   "pygments_lexer": "ipython3",
   "version": "3.7.12"
  }
 },
 "nbformat": 4,
 "nbformat_minor": 5
}
